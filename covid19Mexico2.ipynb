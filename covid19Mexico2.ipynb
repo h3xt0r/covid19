{
 "cells": [
  {
   "cell_type": "markdown",
   "metadata": {},
   "source": [
    "# Analisis de COVID19 en México\n",
    "\n",
    "Vamos a hacer un analisis de los datos de COVID19 en la Ciudad de México para ver cual ha sido el incremento en el número de casos por dia\n",
    "\n",
    "El objetivo es ver si las medidas de contención estan funcionando, pues los porcentajes sobre numeros cada vez mayoers no son indicadores claros del crecimiento de la enfermedad."
   ]
  },
  {
   "cell_type": "code",
   "execution_count": null,
   "metadata": {},
   "outputs": [],
   "source": [
    "from selenium import webdriver\n",
    "from bs4 import BeautifulSoup as bs\n",
    "import pandas as pd\n",
    "#%matplotlib widget\n",
    "import matplotlib.pyplot as plt\n",
    "import datetime\n",
    "import requests\n",
    "page=requests.get(\"https://en.wikipedia.org/wiki/Timeline_of_the_COVID-19_pandemic_in_Mexico\")\n",
    "print(\"Requests :\", page.status_code)\n",
    "#Luego creamos un par de listas vacias para guardar los datos\n",
    "#enfermos = []\n",
    "#muertos = []\n",
    "#obtenemos el contenido\n",
    "contenido = page.content\n",
    "# y lo pasamos al BeautifulSoup\n",
    "soup = bs(contenido, 'html.parser') #esta es toda la sopa en html\n",
    "### en julio cambiaron el formato de la tabla\n",
    "#datos=soup.find_all('span', class_='cbs-ibr') #inspecionamos (inspect from chrome) para saber el elemento que queremos\n",
    "#fechas=soup.find_all('td', class_='bb-04em')\n",
    "### Debido al cambio de julio ahora tenemos\n",
    "dates=soup.find_all('td', class_='bb-c') #contiene las fechas cada 3 elementos\n",
    "sick=soup.find_all('span', class_='mcc-rw') #contiene enfemros en formato text y con comas\n",
    "death=soup.find_all('span', class_='mcc-rm')# contiene muertos en formato texto y con comas\n",
    "### creamos las listas de salida\n",
    "fechas=[]\n",
    "enfermos=[]\n",
    "muertos = [0] * 14 # los primeros 14 elementos no contienen datos por lo que es necesario añadir un cero\n",
    "print(muertos)\n",
    "for i in range(0,len(dates),3):\n",
    "    fechas.append(dates[i].get_text())\n",
    "    #enfermos[i].get_text(), muertos[i].get_text()\n",
    "\n",
    "for i in range (0,len(sick)):\n",
    "    enfermos.append(int(sick[i].get_text().replace(\",\",\"\")))\n",
    "\n",
    "for i in range (0,len(death)):\n",
    "    muertos.append(int(death[i].get_text().replace(\",\",\"\")))\n",
    "    \n",
    "# probamos la lectura para 20 datos\n",
    "#for i in range(0,20):\n",
    "#    print(fechas[i], enfermos[i], muertos[i])\n",
    "#    \n",
    "print(f\"Numero de fechas recuperadas: {len(fechas)}\")#numero de datos en la lista, enfermos y muertos\n",
    "print(f\"Número de datos de enfermos: {len(enfermos)}\") \n",
    "print(f\"Número de datos de muertos: {len(enfermos)}\") \n",
    "\n",
    "#### Este codigo quedó en desuso por los cambios en julio\n",
    "#### Inicia codigo en desuso\n",
    "#como la informacion viene revuelta, los pares son enfermos y los nones son muertos\n",
    "\n",
    "# for i in range(0,len(datos)):\n",
    "#     if i%2==0:\n",
    "#         #Tenemos datos en forma de string, por lo que tenemos que extraer el texto del tag de html (get_text()), \n",
    "#         #luego eliminar las comas (string.replace(',','')) y finalemnte convetir el resultado a un numero\n",
    "#         #float(string)\n",
    "#         enfermos.append(float(datos[i].get_text().replace(',','')))\n",
    "#     else:\n",
    "#         aux=datos[i].get_text().replace(',','')\n",
    "#         if aux.isnumeric():\n",
    "#             muertos.append(float(aux))\n",
    "#         else:\n",
    "#             muertos.append(0)\n",
    "\n",
    "#print(fechas[0])\n",
    "#print(fechas[3])\n",
    "#print(fechas[6])\n",
    "#print(fechas[9])\n",
    "#print(fechas[12].get_text())\n",
    "#Tenemos las fechas cada multiplo de tres. Y los primeros dias faltan algunos datos, empiezan a ser estables\n",
    "#a partir de el 2020-03-11\n",
    "#vamos a usar un contador y un while\n",
    "\n",
    "# #Lista de Fechas\n",
    "# dates=[]\n",
    "# i=0 #Contador Generico\n",
    "# while i < len(fechas):\n",
    "#     dates.append(fechas[i].get_text())\n",
    "#     i=i+3    \n",
    "\n",
    "##### Termina codigo en desuso\n",
    "\n",
    "### Por compatiblidad cambiamos fechas a dates\n",
    "dates = fechas"
   ]
  },
  {
   "cell_type": "code",
   "execution_count": null,
   "metadata": {},
   "outputs": [],
   "source": [
    "#Verificamos que tengamos los datos\n",
    "print(\"Resultado de recuperacion de datos, los tres deben ser iguales:\\n\")\n",
    "print(f\"Número de datos de fecha: {len(dates)}\")\n",
    "print(f\"Número de datos de enfermos: {len(enfermos)}\")\n",
    "print(f\"Número de datos de muertos: {len(muertos)}\")\n",
    "#print(f\"{num:,}\")\n",
    "print(f\"días de pandemia :{len(dates):,}\")\n",
    "print(f\"total de enfermos: {enfermos[-1]:,} \")\n",
    "print(f\"total de muertos: {muertos[-1]:,}\")\n",
    "print(f\"Muertos / Enfermos : {(muertos[-1] / enfermos[-1]*100):,}\")\n",
    "#print(dates)"
   ]
  },
  {
   "cell_type": "markdown",
   "metadata": {},
   "source": [
    "# Gráfica Enfermos\n",
    "Tenemos un artefacto en 2020-10-05"
   ]
  },
  {
   "cell_type": "code",
   "execution_count": null,
   "metadata": {},
   "outputs": [],
   "source": [
    "#Como tenemos algunas fechas faltantes, vamos a cortas los primeros 7 datos, donde han inconsistencias\n",
    "#plt.pĺot(x,y) donde x es una lista de fechas y 'y' es una lista datos\n",
    "\n",
    "#Graficamos la curva general de enfemos cortando los primeros siete datos\n",
    "##Primero los datos son texto, debemos convertirlos a fechas y numeros\n",
    "#empecemos con los enfermos y recortamos los primeros 7 datos\n",
    "\n",
    "plt.figure(figsize=(15,10))\n",
    "plt.gca().xaxis.set_major_locator(plt.MultipleLocator(28))\n",
    "plt.gca().yaxis.set_major_locator(plt.MultipleLocator(100000))\n",
    "plt.xticks(rotation=70)\n",
    "plt.grid(visible=True, color='r')\n",
    "plt.title(\"Grafica de Enfermos Totales\")\n",
    "#plt.rcParams['figure.figsize'] = [20, 20] #inches\n",
    "plt.plot(dates[7:],enfermos[7:])\n",
    "#plt.plot(dates[7:],enfermos[7:])\n",
    "#plt.plot(dates[7:],enfermos[7:])\n"
   ]
  },
  {
   "cell_type": "code",
   "execution_count": null,
   "metadata": {},
   "outputs": [],
   "source": [
    "# Aqui impimimos el total de enfermos \n",
    "d_enfermos={}\n",
    "print(f\"Total de datos: {len(dates[7:])}: \\n\") #Cortamos los primeros 7 por inconsistencias\n",
    "for i in range(7,len(dates)):\n",
    "    d_enfermos[dates[i]]=enfermos[i]\n",
    "    #print(f\"{dates[i]} : {enfermos[i]}\")\n",
    "\n",
    "#print(d_enfermos)\n",
    "\n"
   ]
  },
  {
   "cell_type": "markdown",
   "metadata": {},
   "source": [
    "# Grafica Muertos"
   ]
  },
  {
   "cell_type": "code",
   "execution_count": null,
   "metadata": {},
   "outputs": [],
   "source": [
    "plt.figure(figsize=(15,10))\n",
    "plt.gca().xaxis.set_major_locator(plt.MultipleLocator(28))\n",
    "plt.gca().yaxis.set_major_locator(plt.MultipleLocator(10000))\n",
    "plt.xticks(rotation=70)\n",
    "plt.grid(visible=True, color='r')\n",
    "plt.title(\"Grafica de muertos totales\")\n",
    "\n",
    "plt.plot(dates[7:],muertos[7:])\n",
    "#print(\"Gráfica de muertos totales\")\n"
   ]
  },
  {
   "cell_type": "code",
   "execution_count": null,
   "metadata": {},
   "outputs": [],
   "source": [
    "\n",
    "#Ahora impimimos El numero de muertos totales\n",
    "d_muertos={}\n",
    "print(f\"Total de datos: {len(dates[7:])}: \\n\") #Cortamos los primero 7 por incosistencias\n",
    "for i in range(7,len(dates)):\n",
    "    d_muertos[dates[i]]=muertos[i]\n",
    "    #print(f\"{dates[i]} : {muertos[i]}\")\n",
    "#print(d_muertos)\n",
    "\n"
   ]
  },
  {
   "cell_type": "markdown",
   "metadata": {},
   "source": [
    "# Incrementos Diarios"
   ]
  },
  {
   "cell_type": "markdown",
   "metadata": {},
   "source": [
    "Ahora que tenemos los datos, generamos el pasto, tanto para los muertos como para los enfermos, el pasto es la diferencia o incremento y debe ser igual al numero de elementos -1\n",
    "primero obtenemos el numero de elementos (actual menos anterior)"
   ]
  },
  {
   "cell_type": "code",
   "execution_count": null,
   "metadata": {},
   "outputs": [],
   "source": [
    "pasto_enfermos=[]\n",
    "pasto_muertos=[]\n",
    "longitud=len(enfermos)-1 #para no salirnos del indice\n",
    "#print(longitud)\n",
    "for i in range(0,longitud):\n",
    "    #pasto = b - a \n",
    "    pasto_enfermos.append(enfermos[i+1]-enfermos[i])\n",
    "    #ahora lo mismo para los muertos\n",
    "    pasto_muertos.append(muertos[i+1]-muertos[i])\n",
    "    \n",
    "#print(f\"Incremento diario en enfermos durante {len(pasto_enfermos)} dias:\")        \n",
    "#print(pasto_enfermos)\n",
    "#print(f\"Incremento diario en muertos durante {len(pasto_muertos)} días:\")\n",
    "#print(pasto_muertos)"
   ]
  },
  {
   "cell_type": "markdown",
   "metadata": {},
   "source": [
    "## Incremento diario en enfermos"
   ]
  },
  {
   "cell_type": "code",
   "execution_count": null,
   "metadata": {},
   "outputs": [],
   "source": [
    "#Ahora Graficamos el incremento diario de enfermos\n",
    "plt.figure(figsize=(15,10))\n",
    "plt.gca().xaxis.set_major_locator(plt.MultipleLocator(14))\n",
    "plt.gca().yaxis.set_major_locator(plt.MultipleLocator(1000))\n",
    "plt.xticks(rotation=70)\n",
    "plt.grid(visible=True, color='r')\n",
    "plt.title(\"Gráfica de incrementos diarios en enfermos\")\n",
    "plt.plot(dates[7:],pasto_enfermos[6:])\n"
   ]
  },
  {
   "cell_type": "markdown",
   "metadata": {},
   "source": [
    "## Ajsute ##\n",
    "Debido a un ajuste de casos no contabilizados que realizo el gobierno mexicano, tenemos un excesivo aumento de casos el dia 2020-10-05 con un total de 28115 casos en un dia, para efectos de de la gráfica este dato se sustituyo por el proemedio aritmentico de la suma del dia anterior y posterios (3712 + 4828)/2 = 4270"
   ]
  },
  {
   "cell_type": "code",
   "execution_count": null,
   "metadata": {},
   "outputs": [],
   "source": [
    "from copy import deepcopy\n",
    "pe2 = deepcopy(pasto_enfermos)\n",
    "#checamos que el elemnto existainqu\n",
    "if pe2.count(28115.0) == 1:\n",
    "    #si exsite substituimos el elemento por el promedio:\n",
    "    #print(pe2[pe2.index(28115.0)])\n",
    "    pe2[pe2.index(28115.0)]= 4270\n",
    "#verficamos el cambio en el idice 214\n",
    "#print(pe2[214])\n",
    "#pe2.count(28115.0)\n",
    "\n",
    "#ahora Graficamos sin el artefacto\n"
   ]
  },
  {
   "cell_type": "code",
   "execution_count": null,
   "metadata": {},
   "outputs": [],
   "source": [
    "#Ahora Graficamos el incremeinqunto diario de enfermos sin el artefacto\n",
    "plt.figure(figsize=(15,10))\n",
    "plt.gca().xaxis.set_major_locator(plt.MultipleLocator(14))\n",
    "plt.gca().yaxis.set_major_locator(plt.MultipleLocator(1000))\n",
    "plt.xticks(rotation=70)\n",
    "plt.grid(visible=True, color='r')\n",
    "plt.title(\"Gráfica de incrementos diarios en enfermos sin artefacto\")\n",
    "plt.plot(dates[7:],pe2[6:])\n"
   ]
  },
  {
   "cell_type": "code",
   "execution_count": null,
   "metadata": {},
   "outputs": [],
   "source": [
    "#Vamos recuperar los datos de la gráfica\n",
    "#Primero creamos un dicionario con los datos\n",
    "delta_enfermos={}\n",
    "#Luego lo llenamos\n",
    "print(f\"Incremento diario en enfermos durante: {len(dates[7:])} dias\\n\") #cortamos los primeros siete dias por inconsistencias\n",
    "for i in range (7,len(dates)):\n",
    "    delta_enfermos[dates[i]]=pasto_enfermos[i-1]\n",
    "#Ahora Imprimimos la delta de enfermos\n",
    "\n",
    "#for key in delta_enfermos:\n",
    "#    print(f\"{key} : {delta_enfermos[key]}\")\n",
    "#print(delta_enfermos)"
   ]
  },
  {
   "cell_type": "markdown",
   "metadata": {},
   "source": [
    "## Incremento diario en muertos"
   ]
  },
  {
   "cell_type": "code",
   "execution_count": null,
   "metadata": {},
   "outputs": [],
   "source": [
    "plt.figure(figsize=(15,10))\n",
    "plt.gca().xaxis.set_major_locator(plt.MultipleLocator(14))\n",
    "plt.gca().yaxis.set_major_locator(plt.MultipleLocator(200))\n",
    "plt.xticks(rotation=70)\n",
    "plt.grid(visible=True, color='r')\n",
    "plt.title(\"Gráfica de incrementos diarios en muertos\")\n",
    "plt.plot(dates[7:],pasto_muertos[6:])\n"
   ]
  },
  {
   "cell_type": "markdown",
   "metadata": {},
   "source": [
    "## Ajsute ##\n",
    "Debido a un ajuste de casos no contabilizados que realizo el gobierno mexicano, tenemos un excesivo aumento de casos el dia 2020-10-05 con un total de 2789 casos en un dia, para efectos de de la gráfica este dato se sustituyo por el proemedio aritmentico de la suma del dia anterior y posterios (208 + 471)/2 = 339\n"
   ]
  },
  {
   "cell_type": "code",
   "execution_count": null,
   "metadata": {},
   "outputs": [],
   "source": [
    "from copy import deepcopy\n",
    "pm = deepcopy(pasto_muertos)\n",
    "#checamos que el elemnto existainqu\n",
    "if pm.count(2789.0) == 1:\n",
    "    #si exsite substituimos el elemento por el promedio:\n",
    "    #print(pm[pm.index(2789.0)])\n",
    "    pm[pm.index(2789.0)]= 339\n",
    "#verficamos el cambio en el idice 214\n",
    "#print(pm[214])\n",
    "#pm.count(2789.0)\n",
    "\n",
    "#ahora Graficamos sin el artefacto\n",
    "plt.figure(figsize=(15,10))\n",
    "plt.gca().xaxis.set_major_locator(plt.MultipleLocator(14))\n",
    "plt.gca().yaxis.set_major_locator(plt.MultipleLocator(200))\n",
    "plt.xticks(rotation=70)\n",
    "plt.grid(visible=True, color='r')\n",
    "plt.title(\"Gráfica de incrementos diarios en muertos sin artefacto\")\n",
    "plt.plot(dates[7:],pm[6:])\n"
   ]
  },
  {
   "cell_type": "code",
   "execution_count": null,
   "metadata": {},
   "outputs": [],
   "source": [
    "#ahora imprimimos los datos del incremento de muertos\n",
    "print(f\"Incremento diario en muertos durante {len(dates[7:])} dias\\n\")\n",
    "delta_muertos={} #diccionario para guardar el pasto de los muertos\n",
    "for i in range (7,len(dates)):\n",
    "    delta_muertos[dates[i]]=pasto_muertos[i-1]\n",
    "    #print(f\"{dates[i]} : {pasto_muertos[i-1]}\" )\n",
    "#print(delta_muertos)    \n"
   ]
  },
  {
   "cell_type": "markdown",
   "metadata": {},
   "source": [
    "# Exportancion de la informacion a formato CSV para ser leida por excel y similares"
   ]
  },
  {
   "cell_type": "code",
   "execution_count": null,
   "metadata": {},
   "outputs": [],
   "source": [
    "#guardamos la informacion en formato CSV para ser leida por excel\n",
    "excel_enfermos = pd.DataFrame.from_dict(d_enfermos, orient=\"index\")\n",
    "excel_muertos = pd.DataFrame.from_dict(d_muertos, orient=\"index\")\n",
    "excel_delta_enfermos = pd.DataFrame.from_dict(delta_enfermos, orient=\"index\")\n",
    "excel_delta_muertos = pd.DataFrame.from_dict(delta_muertos, orient=\"index\")\n",
    "\n",
    "#Auqui guardamos la informacion en formato CSV\n",
    "excel_enfermos.to_csv(\"Total de enfermos.csv\")\n",
    "excel_muertos.to_csv(\"Total de muertos.csv\")\n",
    "excel_delta_enfermos.to_csv(\"Incremento en enfermos.csv\")\n",
    "excel_delta_muertos.to_csv(\"Incremento en muertos.csv\")\n"
   ]
  },
  {
   "cell_type": "markdown",
   "metadata": {},
   "source": [
    "# Analisis por dia de la semana\n",
    "\n",
    "Ahora vamos a tratar de hacer analisis acumulativos por dia lunes, martes, etc,  sumando todos los enfermos del dia durante toda la pandemia y graficandolos por tipo de día."
   ]
  },
  {
   "cell_type": "code",
   "execution_count": null,
   "metadata": {},
   "outputs": [],
   "source": [
    "#primero creamos una funcion que nos regrese al dia de la semana desde una string con fromato\n",
    "#YYYY-MM-DD\n",
    "import calendar\n",
    "def day_of_week(fecha=\"2020-06-21\"):\n",
    "    \"\"\"Esta funcion recibe un string de fecha en formato yyyy-mm-dd y debe regresar un entero\n",
    "    con el dia de la semana, 0 para domingo, 1 para lunes, ..., 6 para sabado \"\"\"\n",
    "    year, month, day = (int(i) for i in fecha.split(\"-\"))\n",
    "    return calendar.weekday(year, month, day)\n",
    "day_of_week()\n",
    "\n",
    "#ya que tenemos el dia de la semana, creamos una funcion que regrese un diccionario \n",
    "#con los acumulados por dia de cada uno de los conjuntos de datos, la funcion\n",
    "#debe recibir un conjunto de datos y regresar un diccionario con llaves por cada\n",
    "#dia y el acumulado durante el periodo\n",
    "\n",
    "def acumulados_por_dia(dict_datos):\n",
    "    \"\"\" El diccionarion de datos debe tener el formato YYYY-MM-DD:dato, para varios dias\"\"\"\n",
    "    #creamos los contenedores de datos, una lista para cada uno:\n",
    "    lunes, martes, miercoles, jueves, viernes, sabado, domingo=[],[],[],[],[],[],[]\n",
    "    #ahora recorremos el diccionario de datos\n",
    "    for key in dict_datos:\n",
    "        if day_of_week(key) == 0:\n",
    "            domingo.append(dict_datos[key])\n",
    "        if day_of_week(key) == 1:\n",
    "            lunes.append(dict_datos[key])\n",
    "        if day_of_week(key) == 2:\n",
    "            martes.append(dict_datos[key])\n",
    "        if day_of_week(key) == 3:\n",
    "            miercoles.append(dict_datos[key])\n",
    "        if day_of_week(key) == 4:\n",
    "            jueves.append(dict_datos[key])\n",
    "        if day_of_week(key) == 5:\n",
    "            viernes.append(dict_datos[key])\n",
    "        if day_of_week(key) == 6:\n",
    "            sabado.append(dict_datos[key])\n",
    "    #ahora creamos un diccionario para guardar los datos \n",
    "    salida={}\n",
    "    salida[\"Lunes\"]=sum(lunes)\n",
    "    salida[\"Martes\"]=sum(martes)\n",
    "    salida[\"Miercoles\"]=sum(miercoles)\n",
    "    salida[\"Jueves\"]=sum(jueves)\n",
    "    salida[\"Viernes\"]=sum(viernes)\n",
    "    salida[\"Sabado\"]=sum(sabado)\n",
    "    salida[\"Domingo\"]=sum(domingo)\n",
    "    return salida\n",
    "acc_enfermos=acumulados_por_dia(delta_enfermos)\n",
    "acc_muertos=acumulados_por_dia(delta_muertos)\n",
    "      "
   ]
  },
  {
   "cell_type": "markdown",
   "metadata": {},
   "source": [
    "# Gráfica de enfermos acumulados por dia"
   ]
  },
  {
   "cell_type": "code",
   "execution_count": null,
   "metadata": {},
   "outputs": [],
   "source": [
    "print(acc_enfermos)\n",
    "print(f\"Total de enfermos: {sum(acc_enfermos.values())}\")\n",
    "plt.figure(figsize=(15,10))\n",
    "plt.title(\"Gráfica de enfermos acumulados por dia de la semana\")\n",
    "plt.bar(acc_enfermos.keys(), acc_enfermos.values())\n"
   ]
  },
  {
   "cell_type": "markdown",
   "metadata": {},
   "source": [
    "#Grafica de Muerstos acumulados por dia"
   ]
  },
  {
   "cell_type": "code",
   "execution_count": null,
   "metadata": {},
   "outputs": [],
   "source": [
    "print(acc_muertos)\n",
    "print(f\"Total de muertos: {sum(acc_muertos.values())}\")\n",
    "plt.figure(figsize=(15,10))\n",
    "plt.title(\"Gráfica de muertos acumulados por dia de la semana\")\n",
    "plt.bar(acc_muertos.keys(),acc_muertos.values())\n"
   ]
  },
  {
   "cell_type": "markdown",
   "metadata": {},
   "source": [
    "# Grafica de enfermos por dia de la semana\n",
    "\n",
    "Vamos a graficar los reportes de enfermos por dia de la semana\n",
    "\n",
    "Creamos una funcion para graficar obtener los datos, es similar a la de accumulados por dia\n",
    "pero sin la sumatoria final.\n",
    "\n"
   ]
  },
  {
   "cell_type": "code",
   "execution_count": null,
   "metadata": {},
   "outputs": [],
   "source": [
    "def acc2(dict_datos):\n",
    "    \"\"\" El diccionarion de datos debe tener el formato YYYY-MM-DD:dato, para varios dias\"\"\"\n",
    "    #creamos los contenedores de datos, una lista para cada uno:\n",
    "    lunes, martes, miercoles, jueves, viernes, sabado, domingo=[],[],[],[],[],[],[]\n",
    "    #ahora recorremos el diccionario de datos\n",
    "    for key in dict_datos:\n",
    "        if day_of_week(key) == 0:\n",
    "            domingo.append(dict_datos[key])\n",
    "        if day_of_week(key) == 1:\n",
    "            lunes.append(dict_datos[key])\n",
    "        if day_of_week(key) == 2:\n",
    "            martes.append(dict_datos[key])\n",
    "        if day_of_week(key) == 3:\n",
    "            miercoles.append(dict_datos[key])\n",
    "        if day_of_week(key) == 4:\n",
    "            jueves.append(dict_datos[key])\n",
    "        if day_of_week(key) == 5:\n",
    "            viernes.append(dict_datos[key])\n",
    "        if day_of_week(key) == 6:\n",
    "            sabado.append(dict_datos[key])\n",
    "    #ahora creamos un diccionario para guardar los datos \n",
    "    salida={}\n",
    "    salida[\"Lunes\"]=lunes\n",
    "    salida[\"Martes\"]=martes\n",
    "    salida[\"Miercoles\"]=miercoles\n",
    "    salida[\"Jueves\"]=jueves\n",
    "    salida[\"Viernes\"]=viernes\n",
    "    salida[\"Sabado\"]=sabado\n",
    "    salida[\"Domingo\"]=domingo\n",
    "    return salida\n",
    "\n",
    "DiasEnfermos=acc2(delta_enfermos)\n",
    "#print(DiasEnfermos)"
   ]
  },
  {
   "cell_type": "code",
   "execution_count": null,
   "metadata": {},
   "outputs": [],
   "source": [
    "plt.figure(figsize=(15,10))\n",
    "plt.plot(DiasEnfermos[\"Lunes\"], label=\"Lunes\")\n",
    "plt.plot(DiasEnfermos[\"Martes\"], label=\"Martes\")\n",
    "plt.plot(DiasEnfermos[\"Miercoles\"], label=\"Miercoles\")\n",
    "plt.plot(DiasEnfermos[\"Jueves\"], label=\"Jueves\")\n",
    "plt.plot(DiasEnfermos[\"Viernes\"], label=\"Viernes\")\n",
    "plt.plot(DiasEnfermos[\"Sabado\"], label=\"Sabado\")\n",
    "plt.plot(DiasEnfermos[\"Domingo\"], label=\"Domingo\")\n",
    "plt.grid(visible=True, color='r')\n",
    "plt.title(\"Gráfica de enfermos por dia de la semana\")\n",
    "plt.legend(bbox_to_anchor=(1.05, 1), loc=2, frameon=False)\n"
   ]
  },
  {
   "cell_type": "markdown",
   "metadata": {},
   "source": [
    "#Gráfica de Muertos por dia de la semana\n",
    "\n"
   ]
  },
  {
   "cell_type": "code",
   "execution_count": null,
   "metadata": {},
   "outputs": [],
   "source": [
    "DiasMuertos=acc2(delta_muertos)\n",
    "#print(DiasMuertos)"
   ]
  },
  {
   "cell_type": "code",
   "execution_count": null,
   "metadata": {},
   "outputs": [],
   "source": [
    "plt.figure(figsize=(15,10))\n",
    "plt.plot(DiasMuertos[\"Lunes\"], label=\"Lunes\")\n",
    "plt.plot(DiasMuertos[\"Martes\"], label=\"Martes\")\n",
    "plt.plot(DiasMuertos[\"Miercoles\"], label=\"Miercoles\")\n",
    "plt.plot(DiasMuertos[\"Jueves\"], label=\"Jueves\")\n",
    "plt.plot(DiasMuertos[\"Viernes\"], label=\"Viernes\")\n",
    "plt.plot(DiasMuertos[\"Sabado\"], label=\"Sabado\")\n",
    "plt.plot(DiasMuertos[\"Domingo\"], label=\"Domingo\")\n",
    "plt.grid(visible=True, color='r')\n",
    "plt.title(\"Gráfica de muertos por dia de la semana\")\n",
    "plt.legend(bbox_to_anchor=(1.05, 1), loc=2, frameon=False)\n"
   ]
  },
  {
   "cell_type": "markdown",
   "metadata": {},
   "source": [
    "# Ahora vamos a correr algunos modelos de predicción\n"
   ]
  }
 ],
 "metadata": {
  "kernelspec": {
   "display_name": "Python 3 (ipykernel)",
   "language": "python",
   "name": "python3"
  },
  "language_info": {
   "codemirror_mode": {
    "name": "ipython",
    "version": 3
   },
   "file_extension": ".py",
   "mimetype": "text/x-python",
   "name": "python",
   "nbconvert_exporter": "python",
   "pygments_lexer": "ipython3",
   "version": "3.9.5"
  }
 },
 "nbformat": 4,
 "nbformat_minor": 4
}
